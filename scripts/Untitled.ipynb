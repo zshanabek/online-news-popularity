{
 "cells": [
  {
   "cell_type": "code",
   "execution_count": 8,
   "metadata": {},
   "outputs": [
    {
     "name": "stdout",
     "output_type": "stream",
     "text": [
      "[ 0.5650145   0.64800101  0.65960399  0.6681801   0.66574168]\n"
     ]
    }
   ],
   "source": [
    "import os\n",
    "from sklearn.tree import DecisionTreeClassifier, export_graphviz\n",
    "import pandas as pd\n",
    "import numpy as np\n",
    "from sklearn.model_selection import train_test_split\n",
    "from sklearn import model_selection, metrics\n",
    "from sklearn.ensemble import RandomForestClassifier\n",
    "from sklearn.naive_bayes import BernoulliNB\n",
    "from sklearn.neighbors import KNeighborsClassifier\n",
    "from sklearn.svm import SVC\n",
    "from time import time\n",
    "from sklearn.metrics import accuracy_score, mean_squared_error, average_precision_score\n",
    "import matplotlib.pyplot as plt\n",
    "\n",
    "csv_filename=\"OnlineNewsPopularity.csv\"\n",
    "\n",
    "df=pd.read_csv(csv_filename)\n",
    "\n",
    "popular = df.shares >= 1400\t\n",
    "unpopular = df.shares < 1400\n",
    "\n",
    "df.loc[popular,'shares'] = 1\n",
    "df.loc[unpopular,'shares'] = 0\n",
    "\n",
    "\n",
    "features=list(df.columns[2:60])\n",
    "X_train1, X_test, y_train1, y_test = model_selection.train_test_split(df[features], df['shares'], test_size=0.4, random_state=0)\n",
    "\n",
    "scores_set = []\n",
    "    \n",
    "# X_train, X_test, y_train, y_test = train_test_split(X_train1, y_train1,test_size=0.5)\n",
    "\n",
    "from sklearn.model_selection import cross_val_score\n",
    "\n",
    "rf = RandomForestClassifier(n_estimators=100,n_jobs=-1, criterion=\"entropy\")\n",
    "\n",
    "scores = []\n",
    "scores = cross_val_score(rf, df[features], df['shares'], cv=5, n_jobs=-1)\n",
    "\n",
    "\n",
    "# rf.fit(X_train, y_train)\n",
    "\n",
    "# y_pred = rf.predict(X_test)\n",
    "# print(accuracy_score(y_test,y_pred))\n",
    "print(scores)"
   ]
  },
  {
   "cell_type": "code",
   "execution_count": null,
   "metadata": {},
   "outputs": [],
   "source": []
  }
 ],
 "metadata": {
  "kernelspec": {
   "display_name": "Python 3",
   "language": "python",
   "name": "python3"
  },
  "language_info": {
   "codemirror_mode": {
    "name": "ipython",
    "version": 3
   },
   "file_extension": ".py",
   "mimetype": "text/x-python",
   "name": "python",
   "nbconvert_exporter": "python",
   "pygments_lexer": "ipython3",
   "version": "3.5.2"
  }
 },
 "nbformat": 4,
 "nbformat_minor": 2
}
