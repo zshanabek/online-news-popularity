{
 "cells": [
  {
   "cell_type": "code",
   "execution_count": 1,
   "metadata": {},
   "outputs": [
    {
     "name": "stdout",
     "output_type": "stream",
     "text": [
      "[[  1.20000000e+01   2.19000000e+02   6.63594467e-01 ...,  -2.00000000e-01\n",
      "    5.00000000e-01   0.00000000e+00]\n",
      " [  9.00000000e+00   2.55000000e+02   6.04743081e-01 ...,  -1.00000000e-01\n",
      "    0.00000000e+00   5.00000000e-01]\n",
      " [  9.00000000e+00   2.11000000e+02   5.75129531e-01 ...,  -1.33333333e-01\n",
      "    0.00000000e+00   5.00000000e-01]\n",
      " ..., \n",
      " [  1.00000000e+01   4.42000000e+02   5.16355139e-01 ...,  -1.66666667e-01\n",
      "    4.54545455e-01   4.54545450e-02]\n",
      " [  6.00000000e+00   6.82000000e+02   5.39493293e-01 ...,  -1.25000000e-02\n",
      "    0.00000000e+00   5.00000000e-01]\n",
      " [  1.00000000e+01   1.57000000e+02   7.01986750e-01 ...,  -2.00000000e-01\n",
      "    3.33333333e-01   1.66666667e-01]]\n"
     ]
    }
   ],
   "source": [
    "from sklearn.ensemble import ExtraTreesClassifier\n",
    "from sklearn.datasets import load_iris\n",
    "from sklearn.feature_selection import SelectFromModel\n",
    "import os\n",
    "from sklearn.tree import DecisionTreeClassifier, export_graphviz\n",
    "import pandas as pd\n",
    "import numpy as np\n",
    "from sklearn.model_selection import train_test_split\n",
    "from sklearn import model_selection, metrics\n",
    "from sklearn.ensemble import RandomForestClassifier\n",
    "from sklearn import preprocessing\n",
    "from time import time\n",
    "from sklearn.metrics import accuracy_score, mean_squared_error, average_precision_score\n",
    "from sklearn.ensemble import ExtraTreesClassifier\n",
    "from sklearn.feature_selection import SelectFromModel\n",
    "csv_filename=\"OnlineNewsPopularity.csv\"\n",
    "\n",
    "df=pd.read_csv(csv_filename)\n",
    "\n",
    "popular = df.shares >= 1400\t\n",
    "unpopular = df.shares < 1400\n",
    "\n",
    "df.loc[popular,'shares'] = 1\n",
    "df.loc[unpopular,'shares'] = 0\n",
    "\n",
    "features=list(df.columns[2:60])\n",
    "\n",
    "X = df[features]\n",
    "\n",
    "y = df['shares']\n",
    "\n",
    "\n",
    "clf = ExtraTreesClassifier()\n",
    "clf = clf.fit(X, y)\n",
    "clf.feature_importances_  \n",
    "\n",
    "model = SelectFromModel(clf, prefit=True)\n",
    "X_new = model.transform(X)\n",
    "print(X_new)          "
   ]
  },
  {
   "cell_type": "code",
   "execution_count": null,
   "metadata": {},
   "outputs": [],
   "source": [
    "X_train1, X_test, y_train1, y_test = model_selection.train_test_split(df[features], df['shares'], test_size=0.4, random_state=0)\n",
    "\n",
    "scores_set = []\n",
    "    \n",
    "# X_train, X_test, y_train, y_test = train_test_split(X_train1, y_train1,test_size=0.5)\n",
    "\n",
    "from sklearn.model_selection import cross_val_score\n",
    "\n",
    "rf = RandomForestClassifier(n_estimators=100,n_jobs=-1, criterion=\"entropy\")\n",
    "\n",
    "scores = []\n",
    "scores = cross_val_score(rf, df[features], df['shares'], cv=5, n_jobs=-1)\n",
    "\n",
    "\n",
    "# rf.fit(X_train, y_train)\n",
    "\n",
    "# y_pred = rf.predict(X_test)\n",
    "# print(accuracy_score(y_test,y_pred))\n",
    "print(scores)"
   ]
  }
 ],
 "metadata": {
  "kernelspec": {
   "display_name": "Python 3",
   "language": "python",
   "name": "python3"
  },
  "language_info": {
   "codemirror_mode": {
    "name": "ipython",
    "version": 3
   },
   "file_extension": ".py",
   "mimetype": "text/x-python",
   "name": "python",
   "nbconvert_exporter": "python",
   "pygments_lexer": "ipython3",
   "version": "3.5.2"
  }
 },
 "nbformat": 4,
 "nbformat_minor": 2
}
