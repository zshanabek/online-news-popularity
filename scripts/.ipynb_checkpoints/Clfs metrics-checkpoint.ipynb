{
 "cells": [
  {
   "cell_type": "code",
   "execution_count": 80,
   "metadata": {},
   "outputs": [],
   "source": [
    "import pandas as pd\n",
    "import numpy as np\n",
    "from sklearn.tree import DecisionTreeClassifier\n",
    "from sklearn.ensemble import RandomForestClassifier\n",
    "from sklearn.neighbors import KNeighborsClassifier\n",
    "from sklearn.naive_bayes import BernoulliNB\n",
    "from sklearn.linear_model import LogisticRegression\n",
    "from sklearn.model_selection import train_test_split\n",
    "from sklearn import model_selection\n",
    "from sklearn.metrics import accuracy_score, mean_squared_error, average_precision_score,f1_score\n",
    "from sklearn.metrics import precision_score, recall_score, roc_auc_score, roc_auc_score, roc_curve\n",
    "csv_filename=\"OnlineNewsPopularity.csv\"\n",
    "\n",
    "df=pd.read_csv(csv_filename)\n",
    "\n",
    "popular = df.shares >= 1400\t\n",
    "unpopular = df.shares < 1400\n",
    "\n",
    "df.loc[popular,'shares'] = 1\n",
    "df.loc[unpopular,'shares'] = 0\n",
    "\n",
    "features=list(df.columns[2:60])\n",
    "\n",
    "X = df[features]\n",
    "y = df['shares']\n",
    "\n",
    "X_train, X_test, y_train, y_test = model_selection.train_test_split(X, y, test_size=0.4)"
   ]
  },
  {
   "cell_type": "code",
   "execution_count": 81,
   "metadata": {},
   "outputs": [],
   "source": [
    "rf = RandomForestClassifier(criterion=\"entropy\",max_depth=10000)\n",
    "clf_rf = rf.fit(X_train,y_train)\n",
    "y_pred_rf = rf.predict(X_test)\n",
    "predictedClassRF = clf_rf.predict(X_test)\n",
    "print (\"============Random Forest============\")\n",
    "print ('MSE RF:', round(mean_squared_error(y_test, predictedClassRF), 4))\n",
    "print ('Accuracy:', round(accuracy_score(y_test, y_pred_rf), 4))\n",
    "print ('Precision Score:', round(precision_score(y_test, y_pred_rf), 4))\n",
    "print ('Recall Score:', round(recall_score(y_test, y_pred_rf, average='macro'), 4))\n",
    "print ('ROC AUC Score:', round(roc_auc_score(y_test, y_pred_rf), 4))\n",
    "print ('F1 Score:', round(f1_score(y_test, y_pred_rf, average='macro'), 4))"
   ]
  },
  {
   "cell_type": "code",
   "execution_count": 144,
   "metadata": {},
   "outputs": [
    {
     "name": "stdout",
     "output_type": "stream",
     "text": [
      "============Decision Tree============\n",
      "MSE: 0.4235\n",
      "Accuracy: 0.5765\n",
      "Precision Score: 0.5993\n",
      "Recall Score: 0.5745\n",
      "ROC AUC Score: 0.5745\n",
      "F1 Score: 0.5745\n"
     ]
    }
   ],
   "source": [
    "dt = DecisionTreeClassifier(criterion=\"entropy\", splitter=\"best\",max_leaf_nodes=50)\n",
    "clf_dt = dt.fit(X_train, y_train)\n",
    "y_pred_dt = dt.predict(X_test)\n",
    "predictedClassDT = clf_dt.predict(X_test)\n",
    "print (\"============Decision Tree============\")\n",
    "print ('MSE:', round(mean_squared_error(y_test, predictedClassDT), 4))\n",
    "print ('Accuracy:', round(accuracy_score(y_test, y_pred_dt), 4))\n",
    "print ('Precision Score:', round(precision_score(y_test, y_pred_dt), 4))\n",
    "print ('Recall Score:', round(recall_score(y_test, y_pred_dt, average='macro'), 4))\n",
    "print ('ROC AUC Score:', round(roc_auc_score(y_test, y_pred_dt), 4))\n",
    "print ('F1 Score:', round(f1_score(y_test, y_pred_dt, average='macro'), 4))"
   ]
  },
  {
   "cell_type": "code",
   "execution_count": 135,
   "metadata": {},
   "outputs": [
    {
     "name": "stdout",
     "output_type": "stream",
     "text": [
      "============Naive Bayes============\n",
      "MSE: 0.3866\n",
      "Accuracy: 0.6134\n",
      "Precision Score: 1.0\n",
      "Recall Score: 0.6166\n",
      "ROC AUC Score: 0.6166\n",
      "F1 Score: 0.6133\n"
     ]
    }
   ],
   "source": [
    "nb = BernoulliNB(fit_prior=False)\n",
    "clf_nb = nb.fit(X_train, y_train)\n",
    "y_pred_nb = nb.predict(X_test)\n",
    "predictedClassNB = clf_nb.predict(X_test)\n",
    "print (\"============Naive Bayes============\")\n",
    "print ('MSE:', round(mean_squared_error(y_test, predictedClassNB), 4))\n",
    "print ('Accuracy:', round(accuracy_score(y_test, y_pred_nb), 4))\n",
    "print ('Precision Score:',round( precision_score(y_test, y_pred_nb)))\n",
    "print ('Recall Score:', round(recall_score(y_test, y_pred_nb, average='macro'), 4))\n",
    "print ('ROC AUC Score:', round(roc_auc_score(y_test, y_pred_nb), 4))\n",
    "print ('F1 Score:', round(f1_score(y_test, y_pred_nb, average='macro'), 4))"
   ]
  },
  {
   "cell_type": "code",
   "execution_count": 182,
   "metadata": {},
   "outputs": [
    {
     "name": "stdout",
     "output_type": "stream",
     "text": [
      "============KNN============\n",
      "MSE: 0.4374\n",
      "Accuracy: 0.5626\n",
      "Precision Score: 1.0\n",
      "Recall Score: 0.5605\n",
      "ROC AUC Score: 0.5605\n",
      "F1 Score: 0.5606\n"
     ]
    }
   ],
   "source": [
    "knn = KNeighborsClassifier()\n",
    "clf_knn = knn.fit(X_train, y_train)\n",
    "y_pred_knn = knn.predict(X_test)\n",
    "predictedClassKNN = clf_knn.predict(X_test)\n",
    "print (\"============KNN============\")\n",
    "print ('MSE:', round(mean_squared_error(y_test, predictedClassKNN), 4))\n",
    "print ('Accuracy:', round(accuracy_score(y_test, y_pred_knn), 4))\n",
    "print ('Precision Score:',round( precision_score(y_test, y_pred_knn)))\n",
    "print ('Recall Score:', round(recall_score(y_test, y_pred_knn, average='macro'), 4))\n",
    "print ('ROC AUC Score:', round(roc_auc_score(y_test, y_pred_knn), 4))\n",
    "print ('F1 Score:', round(f1_score(y_test, y_pred_knn, average='macro'), 4))"
   ]
  },
  {
   "cell_type": "code",
   "execution_count": 181,
   "metadata": {},
   "outputs": [
    {
     "name": "stdout",
     "output_type": "stream",
     "text": [
      "============Logistic Regression============\n",
      "MSE: 0.5068\n",
      "Accuracy: 0.4932\n",
      "Precision Score: 0.5654\n",
      "Recall Score: 0.5126\n",
      "ROC AUC Score: 0.5126\n",
      "F1 Score: 0.4463\n"
     ]
    }
   ],
   "source": [
    "lr = LogisticRegression(dual=True)\n",
    "clf_lr = lr.fit(X_train, y_train)\n",
    "y_pred_lr = lr.predict(X_test)\n",
    "predictedClassLR = clf_lr.predict(X_test)\n",
    "print (\"============Logistic Regression============\")\n",
    "print ('MSE:', round(mean_squared_error(y_test, predictedClassLR), 4))\n",
    "print ('Accuracy:', round(accuracy_score(y_test, y_pred_lr), 4))\n",
    "print ('Precision Score:', round(precision_score(y_test, y_pred_lr), 4))\n",
    "print ('Recall Score:', round(recall_score(y_test, y_pred_lr, average='macro'), 4))\n",
    "print ('ROC AUC Score:', round(roc_auc_score(y_test, y_pred_lr), 4))\n",
    "print ('F1 Score:', round(f1_score(y_test, y_pred_lr, average='macro'), 4))"
   ]
  },
  {
   "cell_type": "code",
   "execution_count": null,
   "metadata": {},
   "outputs": [],
   "source": []
  }
 ],
 "metadata": {
  "kernelspec": {
   "display_name": "Python 3",
   "language": "python",
   "name": "python3"
  },
  "language_info": {
   "codemirror_mode": {
    "name": "ipython",
    "version": 3
   },
   "file_extension": ".py",
   "mimetype": "text/x-python",
   "name": "python",
   "nbconvert_exporter": "python",
   "pygments_lexer": "ipython3",
   "version": "3.5.2"
  }
 },
 "nbformat": 4,
 "nbformat_minor": 2
}
